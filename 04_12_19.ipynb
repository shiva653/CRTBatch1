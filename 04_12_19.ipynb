{
  "nbformat": 4,
  "nbformat_minor": 0,
  "metadata": {
    "colab": {
      "name": "04-12-19",
      "provenance": [],
      "collapsed_sections": [],
      "include_colab_link": true
    },
    "kernelspec": {
      "name": "python3",
      "display_name": "Python 3"
    }
  },
  "cells": [
    {
      "cell_type": "markdown",
      "metadata": {
        "id": "view-in-github",
        "colab_type": "text"
      },
      "source": [
        "<a href=\"https://colab.research.google.com/github/shiva653/CRTBatch1/blob/master/04_12_19.ipynb\" target=\"_parent\"><img src=\"https://colab.research.google.com/assets/colab-badge.svg\" alt=\"Open In Colab\"/></a>"
      ]
    },
    {
      "cell_type": "markdown",
      "metadata": {
        "id": "5ab9S6cFE52l",
        "colab_type": "text"
      },
      "source": [
        "#print the even digit sum of a number\n"
      ]
    },
    {
      "cell_type": "code",
      "metadata": {
        "id": "xj_pimgZFGGu",
        "colab_type": "code",
        "outputId": "d56b440b-f258-49e5-d2b2-ebd1d0e285f6",
        "colab": {
          "base_uri": "https://localhost:8080/",
          "height": 34
        }
      },
      "source": [
        "def evendigitsum(n):\n",
        "  s = 0\n",
        "  while n != 0:\n",
        "    r = n % 10\n",
        "    if r % 2 == 0:\n",
        "      s = s + r\n",
        "    n = n // 10\n",
        "  return s\n",
        "evendigitsum(1234)  "
      ],
      "execution_count": 0,
      "outputs": [
        {
          "output_type": "execute_result",
          "data": {
            "text/plain": [
              "6"
            ]
          },
          "metadata": {
            "tags": []
          },
          "execution_count": 1
        }
      ]
    },
    {
      "cell_type": "code",
      "metadata": {
        "id": "w2n9C8fvHg0U",
        "colab_type": "code",
        "colab": {
          "base_uri": "https://localhost:8080/",
          "height": 51
        },
        "outputId": "bebe8804-b3cc-420a-a002-2e853575714a"
      },
      "source": [
        "def square(x):\n",
        "  print(x*x)\n",
        "print(square(4))\n"
      ],
      "execution_count": 7,
      "outputs": [
        {
          "output_type": "stream",
          "text": [
            "16\n",
            "None\n"
          ],
          "name": "stdout"
        }
      ]
    },
    {
      "cell_type": "code",
      "metadata": {
        "id": "ureeGqOZHz_k",
        "colab_type": "code",
        "colab": {
          "base_uri": "https://localhost:8080/",
          "height": 34
        },
        "outputId": "434a0c8a-1e8c-4154-8da9-f01fbde91e6b"
      },
      "source": [
        "def square(x):\n",
        "  return x*x\n",
        "square(4)"
      ],
      "execution_count": 3,
      "outputs": [
        {
          "output_type": "execute_result",
          "data": {
            "text/plain": [
              "16"
            ]
          },
          "metadata": {
            "tags": []
          },
          "execution_count": 3
        }
      ]
    },
    {
      "cell_type": "code",
      "metadata": {
        "id": "pUpfEE3bIF8t",
        "colab_type": "code",
        "colab": {
          "base_uri": "https://localhost:8080/",
          "height": 34
        },
        "outputId": "129a3d6b-6d6f-4dcc-e0ac-d28d4a67386c"
      },
      "source": [
        "def cube(x):\n",
        "  return x*x*x\n",
        "cube(4)"
      ],
      "execution_count": 4,
      "outputs": [
        {
          "output_type": "execute_result",
          "data": {
            "text/plain": [
              "64"
            ]
          },
          "metadata": {
            "tags": []
          },
          "execution_count": 4
        }
      ]
    },
    {
      "cell_type": "code",
      "metadata": {
        "id": "y_pxL-toJJH-",
        "colab_type": "code",
        "colab": {
          "base_uri": "https://localhost:8080/",
          "height": 68
        },
        "outputId": "298eddff-a3e9-4a5f-ce59-fa6a35bf4263"
      },
      "source": [
        "def multiply(x,y=0):\n",
        "  print(\"value of x=\",x)\n",
        "  print(\"value of y=\",y)\n",
        "  return(x*y)\n",
        "print(multiply(y=2,x=4))\n"
      ],
      "execution_count": 10,
      "outputs": [
        {
          "output_type": "stream",
          "text": [
            "value of x= 4\n",
            "value of y= 2\n",
            "8\n"
          ],
          "name": "stdout"
        }
      ]
    },
    {
      "cell_type": "markdown",
      "metadata": {
        "id": "qklcuRD_Lp_N",
        "colab_type": "text"
      },
      "source": [
        "## swap variables\n"
      ]
    },
    {
      "cell_type": "code",
      "metadata": {
        "id": "FwYl4lRwLt39",
        "colab_type": "code",
        "colab": {
          "base_uri": "https://localhost:8080/",
          "height": 34
        },
        "outputId": "a94bf1de-e662-47a7-bc14-54c3b8a5493f"
      },
      "source": [
        "def swap(x,y):\n",
        "  temp = x\n",
        "  x = y\n",
        "  y = temp\n",
        "  return x,y\n",
        "swap(2,3)"
      ],
      "execution_count": 15,
      "outputs": [
        {
          "output_type": "execute_result",
          "data": {
            "text/plain": [
              "(3, 2)"
            ]
          },
          "metadata": {
            "tags": []
          },
          "execution_count": 15
        }
      ]
    },
    {
      "cell_type": "markdown",
      "metadata": {
        "id": "bPD0YEpyP_6h",
        "colab_type": "text"
      },
      "source": [
        "## print large number in the given number"
      ]
    },
    {
      "cell_type": "code",
      "metadata": {
        "id": "a-lt31C-QRLk",
        "colab_type": "code",
        "colab": {
          "base_uri": "https://localhost:8080/",
          "height": 34
        },
        "outputId": "5deb2878-6061-48a7-b3e5-3fc58af7c93b"
      },
      "source": [
        "def largedigit(n):\n",
        "  large = 0\n",
        "  while n!=0:\n",
        "    r=n%10\n",
        "    if large < r:\n",
        "      large = r\n",
        "    n=n//10\n",
        "  return large\n",
        "largedigit(19535)"
      ],
      "execution_count": 18,
      "outputs": [
        {
          "output_type": "execute_result",
          "data": {
            "text/plain": [
              "9"
            ]
          },
          "metadata": {
            "tags": []
          },
          "execution_count": 18
        }
      ]
    },
    {
      "cell_type": "markdown",
      "metadata": {
        "id": "R0R7U8kaT13U",
        "colab_type": "text"
      },
      "source": [
        "## function to print the numbers between two limits"
      ]
    },
    {
      "cell_type": "code",
      "metadata": {
        "id": "lY9sd1_iQRJt",
        "colab_type": "code",
        "colab": {
          "base_uri": "https://localhost:8080/",
          "height": 34
        },
        "outputId": "26f0483a-c79d-4d80-fc51-e9f282701351"
      },
      "source": [
        "def printseries(lb,ub):\n",
        "  for x in range(lb,ub+1):\n",
        "    print(x,end=' ')\n",
        "  return\n",
        "printseries(1,10)"
      ],
      "execution_count": 20,
      "outputs": [
        {
          "output_type": "stream",
          "text": [
            "1 2 3 4 5 6 7 8 9 10 "
          ],
          "name": "stdout"
        }
      ]
    },
    {
      "cell_type": "markdown",
      "metadata": {
        "id": "xu1RQYeDWNK3",
        "colab_type": "text"
      },
      "source": [
        "# Data structures\n",
        "## Collection types\n",
        "1. List\n",
        "2. Tuple\n",
        "3. Set\n",
        "4. Dictionary\n",
        "\n",
        "\n",
        "### List\n",
        "- one of the data structures\n",
        "- Data structures means to store, sort and search options\n",
        "- It's one common data structure in python, the items of list seperated by comma and enclosed in square brackets[]\n",
        "\n",
        "### example\n",
        "- list1=[1,2,3,4]\n",
        "- list2+[\"gitam\",1,2]\n",
        " \n",
        "\n"
      ]
    },
    {
      "cell_type": "code",
      "metadata": {
        "id": "QMOlghtsYGDw",
        "colab_type": "code",
        "colab": {
          "base_uri": "https://localhost:8080/",
          "height": 102
        },
        "outputId": "a5a2d23c-4d1b-4665-afbb-9e6656a344b3"
      },
      "source": [
        "li = [1,8,16,9,2]\n",
        "print(li)\n",
        "print(li[1])\n",
        "print(li[4])\n",
        "print(li[2:])\n",
        "print(li[1:5])\n"
      ],
      "execution_count": 32,
      "outputs": [
        {
          "output_type": "stream",
          "text": [
            "[1, 8, 16, 9, 2]\n",
            "8\n",
            "2\n",
            "[16, 9, 2]\n",
            "[8, 16, 9, 2]\n"
          ],
          "name": "stdout"
        }
      ]
    },
    {
      "cell_type": "markdown",
      "metadata": {
        "id": "hnbqOIn_bse-",
        "colab_type": "text"
      },
      "source": [
        "#### Update list"
      ]
    },
    {
      "cell_type": "code",
      "metadata": {
        "id": "DFqdeONpbva9",
        "colab_type": "code",
        "colab": {
          "base_uri": "https://localhost:8080/",
          "height": 68
        },
        "outputId": "c5020273-2c6b-4332-99d9-0fe39311cb6c"
      },
      "source": [
        "li = ['gitam',1234,'hyd']\n",
        "print(li)\n",
        "li[1] = 456\n",
        "print(li)\n",
        "del li[1]\n",
        "print(li)"
      ],
      "execution_count": 34,
      "outputs": [
        {
          "output_type": "stream",
          "text": [
            "['gitam', 1234, 'hyd']\n",
            "['gitam', 456, 'hyd']\n",
            "['gitam', 'hyd']\n"
          ],
          "name": "stdout"
        }
      ]
    }
  ]
}
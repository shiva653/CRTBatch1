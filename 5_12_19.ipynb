{
  "nbformat": 4,
  "nbformat_minor": 0,
  "metadata": {
    "colab": {
      "name": "5-12-19",
      "provenance": [],
      "include_colab_link": true
    },
    "kernelspec": {
      "name": "python3",
      "display_name": "Python 3"
    }
  },
  "cells": [
    {
      "cell_type": "markdown",
      "metadata": {
        "id": "view-in-github",
        "colab_type": "text"
      },
      "source": [
        "<a href=\"https://colab.research.google.com/github/shiva653/CRTBatch1/blob/master/5_12_19.ipynb\" target=\"_parent\"><img src=\"https://colab.research.google.com/assets/colab-badge.svg\" alt=\"Open In Colab\"/></a>"
      ]
    },
    {
      "cell_type": "markdown",
      "metadata": {
        "id": "LDGMi5eMQyxB",
        "colab_type": "text"
      },
      "source": [
        "### Basic list functions"
      ]
    },
    {
      "cell_type": "code",
      "metadata": {
        "id": "cCl0qj4jRKWc",
        "colab_type": "code",
        "outputId": "84c866c1-f26a-46de-da28-d3559dca8362",
        "colab": {
          "base_uri": "https://localhost:8080/",
          "height": 85
        }
      },
      "source": [
        "li = [9,16,1,25,5]\n",
        "print(max(li))\n",
        "print(min(li))\n",
        "print(sum(li))\n",
        "print(sum(li)//len(li))\n"
      ],
      "execution_count": 0,
      "outputs": [
        {
          "output_type": "stream",
          "text": [
            "25\n",
            "1\n",
            "56\n",
            "11\n"
          ],
          "name": "stdout"
        }
      ]
    },
    {
      "cell_type": "code",
      "metadata": {
        "id": "0NUcgtXzRz60",
        "colab_type": "code",
        "outputId": "7ac37762-65b6-4798-88d9-5ea7c12b8fcc",
        "colab": {
          "base_uri": "https://localhost:8080/",
          "height": 34
        }
      },
      "source": [
        "li = [1,9,16,25,5,9]\n",
        "li.append(29)\n",
        "li.insert(2,56)\n",
        "li\n",
        "li.count(9)\n"
      ],
      "execution_count": 0,
      "outputs": [
        {
          "output_type": "execute_result",
          "data": {
            "text/plain": [
              "2"
            ]
          },
          "metadata": {
            "tags": []
          },
          "execution_count": 5
        }
      ]
    },
    {
      "cell_type": "code",
      "metadata": {
        "id": "L47lgiipSVGy",
        "colab_type": "code",
        "outputId": "80462480-b061-4e58-c65b-33abb35d47c0",
        "colab": {
          "base_uri": "https://localhost:8080/",
          "height": 34
        }
      },
      "source": [
        "li = [1,2,3,4]\n",
        "li.index(2)\n"
      ],
      "execution_count": 0,
      "outputs": [
        {
          "output_type": "execute_result",
          "data": {
            "text/plain": [
              "1"
            ]
          },
          "metadata": {
            "tags": []
          },
          "execution_count": 19
        }
      ]
    },
    {
      "cell_type": "code",
      "metadata": {
        "id": "-KTvhIOqSjdP",
        "colab_type": "code",
        "outputId": "2decbdf1-8a01-4d9f-c395-019091d1f8e0",
        "colab": {
          "base_uri": "https://localhost:8080/",
          "height": 34
        }
      },
      "source": [
        "li=[1,2,7,9,4]\n",
        "li.sort()\n",
        "li"
      ],
      "execution_count": 0,
      "outputs": [
        {
          "output_type": "execute_result",
          "data": {
            "text/plain": [
              "[1, 2, 4, 7, 9]"
            ]
          },
          "metadata": {
            "tags": []
          },
          "execution_count": 7
        }
      ]
    },
    {
      "cell_type": "code",
      "metadata": {
        "id": "MokXj3FCSssy",
        "colab_type": "code",
        "outputId": "22e000e2-8172-40a0-f4ab-0b67cf9a8c65",
        "colab": {
          "base_uri": "https://localhost:8080/",
          "height": 34
        }
      },
      "source": [
        "li=[1,5,4,8,4]\n",
        "li.pop()\n",
        "li"
      ],
      "execution_count": 0,
      "outputs": [
        {
          "output_type": "execute_result",
          "data": {
            "text/plain": [
              "[1, 5, 4, 8]"
            ]
          },
          "metadata": {
            "tags": []
          },
          "execution_count": 9
        }
      ]
    },
    {
      "cell_type": "code",
      "metadata": {
        "id": "pCENnhXgS5Oe",
        "colab_type": "code",
        "outputId": "b3b987bf-225a-4f24-d1cf-54afaf742312",
        "colab": {
          "base_uri": "https://localhost:8080/",
          "height": 34
        }
      },
      "source": [
        "li=[1,2,3,4]\n",
        "li.pop(2)\n",
        "li"
      ],
      "execution_count": 0,
      "outputs": [
        {
          "output_type": "execute_result",
          "data": {
            "text/plain": [
              "[1, 2, 4]"
            ]
          },
          "metadata": {
            "tags": []
          },
          "execution_count": 11
        }
      ]
    },
    {
      "cell_type": "code",
      "metadata": {
        "id": "27xIA-m4RUT1",
        "colab_type": "code",
        "outputId": "f3f86d9c-0351-4f25-c4ac-39ee580d913d",
        "colab": {
          "base_uri": "https://localhost:8080/",
          "height": 34
        }
      },
      "source": [
        "li1 = [1,6,19,25]\n",
        "li1.reverse()\n",
        "li1\n"
      ],
      "execution_count": 0,
      "outputs": [
        {
          "output_type": "execute_result",
          "data": {
            "text/plain": [
              "[25, 19, 6, 1]"
            ]
          },
          "metadata": {
            "tags": []
          },
          "execution_count": 1
        }
      ]
    },
    {
      "cell_type": "code",
      "metadata": {
        "id": "X4mchkArU93k",
        "colab_type": "code",
        "outputId": "f8b6fe53-db4b-473f-ce8a-9da59413bcac",
        "colab": {
          "base_uri": "https://localhost:8080/",
          "height": 34
        }
      },
      "source": [
        "li = [1,12,3,5]\n",
        "li.extend(li)\n",
        "li"
      ],
      "execution_count": 0,
      "outputs": [
        {
          "output_type": "execute_result",
          "data": {
            "text/plain": [
              "[1, 12, 3, 5, 1, 12, 3, 5]"
            ]
          },
          "metadata": {
            "tags": []
          },
          "execution_count": 13
        }
      ]
    },
    {
      "cell_type": "code",
      "metadata": {
        "id": "I-06WMKzTDxr",
        "colab_type": "code",
        "outputId": "372fbbc4-b8f3-4b01-a8ef-5b5e89f633d8",
        "colab": {
          "base_uri": "https://localhost:8080/",
          "height": 51
        }
      },
      "source": [
        "def largenumber(li):\n",
        "  li.sort()\n",
        "  return li[-1]\n",
        "def genericlarge(li,n):\n",
        "  li.sort()\n",
        "  return li[-n]\n",
        "li = [19,1,25,6,9,45,22]\n",
        "print(largenumber(li))\n",
        "print(genericlarge(li,3))\n"
      ],
      "execution_count": 0,
      "outputs": [
        {
          "output_type": "stream",
          "text": [
            "45\n",
            "22\n"
          ],
          "name": "stdout"
        }
      ]
    },
    {
      "cell_type": "code",
      "metadata": {
        "id": "FgHhjZNGVsty",
        "colab_type": "code",
        "outputId": "1f96e97b-588e-4664-b470-ee1fefebda4e",
        "colab": {
          "base_uri": "https://localhost:8080/",
          "height": 51
        }
      },
      "source": [
        "def smallnumber(li):\n",
        "  li.sort()\n",
        "  return li[0]\n",
        "def genericsmall(li,n):\n",
        "  li.sort()\n",
        "  return li[n-1]\n",
        "li = [19,1,25,6,9,45,22]\n",
        "print(smallnumber(li))\n",
        "print(genericsmall(li,3))\n"
      ],
      "execution_count": 0,
      "outputs": [
        {
          "output_type": "stream",
          "text": [
            "1\n",
            "9\n"
          ],
          "name": "stdout"
        }
      ]
    },
    {
      "cell_type": "markdown",
      "metadata": {
        "id": "krHb2_qfY616",
        "colab_type": "text"
      },
      "source": [
        "### Tuples\n",
        "- parenthesis() ---> tuple and square brackets[] ---> list\n",
        "- difference between list and tuples\n",
        "   - list are mutable - can be modified\n",
        "   - used to access and modify,add,delete data\n",
        "   - tuples are immutable - cannot be changed\n",
        "   - used to access data only\n",
        "   "
      ]
    },
    {
      "cell_type": "code",
      "metadata": {
        "id": "RD03w0E5aOOw",
        "colab_type": "code",
        "outputId": "50da1edb-ee51-42de-a23e-50ba8cadbaf4",
        "colab": {
          "base_uri": "https://localhost:8080/",
          "height": 34
        }
      },
      "source": [
        "t1 = (1,2,3,4,5,6)\n",
        "t1\n",
        "print(type(t1),t1[1:5])\n"
      ],
      "execution_count": 0,
      "outputs": [
        {
          "output_type": "stream",
          "text": [
            "<class 'tuple'> (2, 3, 4, 5)\n"
          ],
          "name": "stdout"
        }
      ]
    },
    {
      "cell_type": "markdown",
      "metadata": {
        "id": "Fegh0PDpci01",
        "colab_type": "text"
      },
      "source": [
        "### Dictionaries\n",
        "1. it works on the concept of set unique data\n",
        "2. keys,values is the unique identifier fro the value\n",
        "3. each key is seperated from its value with colon(:)\n",
        "4. each key and value is seperated with comma(,)\n",
        "5. Dictionaries enhanced with curly braces({})\n"
      ]
    },
    {
      "cell_type": "code",
      "metadata": {
        "id": "AgjwdfnZdvR4",
        "colab_type": "code",
        "outputId": "bfae07a5-1203-440b-8595-c047e2d1277a",
        "colab": {
          "base_uri": "https://localhost:8080/",
          "height": 34
        }
      },
      "source": [
        "d1 = {\"Name\":\"Gitam\",\"Email id\":\"Gitam@mgail.com\",\"Address\":\"Hyderabad\"}\n",
        "d1"
      ],
      "execution_count": 0,
      "outputs": [
        {
          "output_type": "execute_result",
          "data": {
            "text/plain": [
              "{'Address': 'Hyderabad', 'Email id': 'Gitam@mgail.com', 'Name': 'Gitam'}"
            ]
          },
          "metadata": {
            "tags": []
          },
          "execution_count": 39
        }
      ]
    },
    {
      "cell_type": "code",
      "metadata": {
        "id": "91UJ58cRel6R",
        "colab_type": "code",
        "outputId": "d988748b-2014-4e1c-fbe3-d20f662e995b",
        "colab": {
          "base_uri": "https://localhost:8080/",
          "height": 34
        }
      },
      "source": [
        "d1[\"Name\"]"
      ],
      "execution_count": 0,
      "outputs": [
        {
          "output_type": "execute_result",
          "data": {
            "text/plain": [
              "'Gitam'"
            ]
          },
          "metadata": {
            "tags": []
          },
          "execution_count": 22
        }
      ]
    },
    {
      "cell_type": "code",
      "metadata": {
        "id": "1mInlzm7fYEC",
        "colab_type": "code",
        "outputId": "c7fb84b9-05cf-4f1d-dcb9-784b252999c9",
        "colab": {
          "base_uri": "https://localhost:8080/",
          "height": 34
        }
      },
      "source": [
        "d1[\"Email id\"]"
      ],
      "execution_count": 0,
      "outputs": [
        {
          "output_type": "execute_result",
          "data": {
            "text/plain": [
              "'Gitam@mgail.com'"
            ]
          },
          "metadata": {
            "tags": []
          },
          "execution_count": 40
        }
      ]
    },
    {
      "cell_type": "code",
      "metadata": {
        "id": "calD7C6yhvpz",
        "colab_type": "code",
        "outputId": "9f15124e-d48b-4744-9906-193877b31829",
        "colab": {
          "base_uri": "https://localhost:8080/",
          "height": 85
        }
      },
      "source": [
        "d1[\"course\"] = \"python\" # adding an entery\n",
        "d1\n"
      ],
      "execution_count": 0,
      "outputs": [
        {
          "output_type": "execute_result",
          "data": {
            "text/plain": [
              "{'Address': 'Hyderabad',\n",
              " 'Email id': 'Gitam@mgail.com',\n",
              " 'Name': 'Gitam',\n",
              " 'course': 'python'}"
            ]
          },
          "metadata": {
            "tags": []
          },
          "execution_count": 41
        }
      ]
    },
    {
      "cell_type": "code",
      "metadata": {
        "id": "Wf0DQ0sggXSx",
        "colab_type": "code",
        "outputId": "c92d7d1c-bb32-48cb-c47a-77bee016f8e8",
        "colab": {
          "base_uri": "https://localhost:8080/",
          "height": 34
        }
      },
      "source": [
        "del d1[\"Email id\"]\n",
        "d1"
      ],
      "execution_count": 0,
      "outputs": [
        {
          "output_type": "execute_result",
          "data": {
            "text/plain": [
              "{'Address': 'Hyderabad', 'Name': 'Gitam', 'course': 'python'}"
            ]
          },
          "metadata": {
            "tags": []
          },
          "execution_count": 42
        }
      ]
    },
    {
      "cell_type": "code",
      "metadata": {
        "id": "ysM8T_D3hLyg",
        "colab_type": "code",
        "outputId": "eae81089-a31f-4cf6-ba16-0313488f3796",
        "colab": {
          "base_uri": "https://localhost:8080/",
          "height": 34
        }
      },
      "source": [
        "d1.keys()"
      ],
      "execution_count": 0,
      "outputs": [
        {
          "output_type": "execute_result",
          "data": {
            "text/plain": [
              "dict_keys(['Name', 'Address'])"
            ]
          },
          "metadata": {
            "tags": []
          },
          "execution_count": 32
        }
      ]
    },
    {
      "cell_type": "code",
      "metadata": {
        "id": "QwCiev4HhOeE",
        "colab_type": "code",
        "outputId": "09195f37-3b1b-4169-8983-e4dc9636bd75",
        "colab": {
          "base_uri": "https://localhost:8080/",
          "height": 34
        }
      },
      "source": [
        "d1.values()"
      ],
      "execution_count": 0,
      "outputs": [
        {
          "output_type": "execute_result",
          "data": {
            "text/plain": [
              "dict_values(['Gitam', 'Hyderabad'])"
            ]
          },
          "metadata": {
            "tags": []
          },
          "execution_count": 33
        }
      ]
    },
    {
      "cell_type": "code",
      "metadata": {
        "id": "0UWxE_3VhlKD",
        "colab_type": "code",
        "outputId": "0301f36b-fcbf-4513-d3cc-e76d8efdeab8",
        "colab": {
          "base_uri": "https://localhost:8080/",
          "height": 34
        }
      },
      "source": [
        "d1.items()\n"
      ],
      "execution_count": 0,
      "outputs": [
        {
          "output_type": "execute_result",
          "data": {
            "text/plain": [
              "dict_items([('Name', 'Gitam'), ('Address', 'Hyderabad')])"
            ]
          },
          "metadata": {
            "tags": []
          },
          "execution_count": 34
        }
      ]
    },
    {
      "cell_type": "markdown",
      "metadata": {
        "id": "cQUHxWQoiehk",
        "colab_type": "text"
      },
      "source": [
        "### strings:\n",
        "- strings\n",
        "- string slicings\n",
        "- fundamental programming with string in python\n",
        " "
      ]
    },
    {
      "cell_type": "code",
      "metadata": {
        "id": "gP4XPGRKitdU",
        "colab_type": "code",
        "outputId": "18d2e6e3-f4c8-46b2-a6d6-8eed03d48fc2",
        "colab": {
          "base_uri": "https://localhost:8080/",
          "height": 51
        }
      },
      "source": [
        "s1 = 'pyhton'\n",
        "print(s1)\n",
        "print(type(s1))\n"
      ],
      "execution_count": 0,
      "outputs": [
        {
          "output_type": "stream",
          "text": [
            "pyhton\n",
            "<class 'str'>\n"
          ],
          "name": "stdout"
        }
      ]
    },
    {
      "cell_type": "code",
      "metadata": {
        "id": "h2Hadmyui3kl",
        "colab_type": "code",
        "outputId": "9619e32e-2c2c-4907-c4f5-41ce16d1ef54",
        "colab": {
          "base_uri": "https://localhost:8080/",
          "height": 85
        }
      },
      "source": [
        "s1 = 'python'\n",
        "print(s1[0])\n",
        "print(s1[1])\n",
        "print(s1[5])\n",
        "print(s1[len(s1)-1])\n"
      ],
      "execution_count": 0,
      "outputs": [
        {
          "output_type": "stream",
          "text": [
            "p\n",
            "y\n",
            "n\n",
            "n\n"
          ],
          "name": "stdout"
        }
      ]
    },
    {
      "cell_type": "code",
      "metadata": {
        "id": "z9Ah1VtwkL3_",
        "colab_type": "code",
        "outputId": "93a38955-f7d2-4239-b40e-c5e82b9e6f63",
        "colab": {
          "base_uri": "https://localhost:8080/",
          "height": 119
        }
      },
      "source": [
        "print(s1[-1])\n",
        "print(s1[-2])\n",
        "print(s1[0:2])\n",
        "print(s1[:2])\n",
        "print(s1[-3:])\n",
        "print(s1[2:])\n",
        "\n"
      ],
      "execution_count": 0,
      "outputs": [
        {
          "output_type": "stream",
          "text": [
            "n\n",
            "o\n",
            "py\n",
            "py\n",
            "hon\n",
            "thon\n"
          ],
          "name": "stdout"
        }
      ]
    },
    {
      "cell_type": "code",
      "metadata": {
        "id": "xbM3Yqt5lUV7",
        "colab_type": "code",
        "outputId": "747c4b03-484b-42ee-8350-3a33f1712ba0",
        "colab": {
          "base_uri": "https://localhost:8080/",
          "height": 136
        }
      },
      "source": [
        "print(s1[1:-1])\n",
        "print(s1[len(s1)//2])\n",
        "print(s1[-1::-1])\n",
        "print(s1[-1:-3:-1])\n",
        "print(s1[::2])\n",
        "print(s1[::3])\n",
        "print(s1[::-1])\n",
        "\n",
        "\n"
      ],
      "execution_count": 0,
      "outputs": [
        {
          "output_type": "stream",
          "text": [
            "ytho\n",
            "h\n",
            "nohtyp\n",
            "no\n",
            "pto\n",
            "ph\n",
            "nohtyp\n"
          ],
          "name": "stdout"
        }
      ]
    },
    {
      "cell_type": "code",
      "metadata": {
        "id": "FyhD2wG8nSUe",
        "colab_type": "code",
        "outputId": "3d9429eb-bbc2-460b-ac01-345bc7083a7c",
        "colab": {
          "base_uri": "https://localhost:8080/",
          "height": 34
        }
      },
      "source": [
        "def reversestring(str):\n",
        "  return str[-1::-1]\n",
        "reversestring(\"programming\")\n"
      ],
      "execution_count": 0,
      "outputs": [
        {
          "output_type": "execute_result",
          "data": {
            "text/plain": [
              "'gnimmargorp'"
            ]
          },
          "metadata": {
            "tags": []
          },
          "execution_count": 48
        }
      ]
    },
    {
      "cell_type": "code",
      "metadata": {
        "id": "ZxPBfAlIn0TX",
        "colab_type": "code",
        "outputId": "9135d6f1-2d62-4ab6-9f2e-2393a58785df",
        "colab": {
          "base_uri": "https://localhost:8080/",
          "height": 51
        }
      },
      "source": [
        "def ispalindrome(str):\n",
        "  if str == str[::-1]:\n",
        "    return True\n",
        "  else:\n",
        "    return False\n",
        "  return\n",
        "print(ispalindrome(\"python\"))\n",
        "print(ispalindrome('ganag'))"
      ],
      "execution_count": 0,
      "outputs": [
        {
          "output_type": "stream",
          "text": [
            "False\n",
            "True\n"
          ],
          "name": "stdout"
        }
      ]
    },
    {
      "cell_type": "markdown",
      "metadata": {
        "id": "eiP-jy75pnMv",
        "colab_type": "text"
      },
      "source": [
        "### String Bulit-in methods:\n",
        "1.upper() -- Will convert the input string into upper case\n",
        "2.lower() --Will convert the input string into lower case"
      ]
    },
    {
      "cell_type": "code",
      "metadata": {
        "id": "esYEDXmpqHd0",
        "colab_type": "code",
        "outputId": "1450b4a0-9eb8-49ea-b018-accd8d6a1721",
        "colab": {
          "base_uri": "https://localhost:8080/",
          "height": 51
        }
      },
      "source": [
        "s1 = 'Python'\n",
        "print(s1.upper())\n",
        "print(s1.lower())"
      ],
      "execution_count": 0,
      "outputs": [
        {
          "output_type": "stream",
          "text": [
            "PYTHON\n",
            "python\n"
          ],
          "name": "stdout"
        }
      ]
    },
    {
      "cell_type": "markdown",
      "metadata": {
        "id": "jG5ey14uqZaR",
        "colab_type": "text"
      },
      "source": [
        "### String boolean bulit-in methods\n",
        "3. islower()\n",
        "4. isupper()\n",
        "5. istitle()\n",
        "6. isnumeric()\n",
        "7. isalpha()\n",
        "8. isspace()\n"
      ]
    },
    {
      "cell_type": "code",
      "metadata": {
        "id": "1yHDDphPq1XU",
        "colab_type": "code",
        "outputId": "4f72f817-7f76-4d4b-9f48-0264de6504de",
        "colab": {
          "base_uri": "https://localhost:8080/",
          "height": 119
        }
      },
      "source": [
        "print(s1.islower())\n",
        "print(s1.isupper())\n",
        "print(s1.istitle())\n",
        "print(s1.isnumeric())\n",
        "print(s1.isalpha())\n",
        "print(s1.isspace())"
      ],
      "execution_count": 0,
      "outputs": [
        {
          "output_type": "stream",
          "text": [
            "False\n",
            "False\n",
            "True\n",
            "False\n",
            "True\n",
            "False\n"
          ],
          "name": "stdout"
        }
      ]
    },
    {
      "cell_type": "markdown",
      "metadata": {
        "id": "0wYNwQjMu75Q",
        "colab_type": "text"
      },
      "source": [
        "### string method\n",
        "- join()\n",
        "- split()\n",
        "- replace()\n"
      ]
    },
    {
      "cell_type": "code",
      "metadata": {
        "id": "qCFr-orqvEz1",
        "colab_type": "code",
        "outputId": "664050c7-2d63-4f61-f33f-d9f15a7bc0fd",
        "colab": {
          "base_uri": "https://localhost:8080/",
          "height": 34
        }
      },
      "source": [
        "s1 = 'python'\n",
        "print(\" \".join(s1))\n"
      ],
      "execution_count": 0,
      "outputs": [
        {
          "output_type": "stream",
          "text": [
            "p y t h o n\n"
          ],
          "name": "stdout"
        }
      ]
    },
    {
      "cell_type": "code",
      "metadata": {
        "id": "R-R7j3yIvWDD",
        "colab_type": "code",
        "outputId": "32b85418-cb85-4321-db39-62eca1a839ae",
        "colab": {
          "base_uri": "https://localhost:8080/",
          "height": 34
        }
      },
      "source": [
        "s2 = \"pyhton programming\"\n",
        "print(\" \".join(s2))"
      ],
      "execution_count": 0,
      "outputs": [
        {
          "output_type": "stream",
          "text": [
            "p y h t o n   p r o g r a m m i n g\n"
          ],
          "name": "stdout"
        }
      ]
    },
    {
      "cell_type": "code",
      "metadata": {
        "id": "GaXtzJqqvfzj",
        "colab_type": "code",
        "outputId": "9de040e3-973c-4c4b-9711-86437a0100ac",
        "colab": {
          "base_uri": "https://localhost:8080/",
          "height": 68
        }
      },
      "source": [
        "s2 = \"python programming easy to learn\"\n",
        "print(len(s2))\n",
        "li = s2.split()\n",
        "print(li)\n",
        "print(len(li))\n"
      ],
      "execution_count": 0,
      "outputs": [
        {
          "output_type": "stream",
          "text": [
            "32\n",
            "['python', 'programming', 'easy', 'to', 'learn']\n",
            "5\n"
          ],
          "name": "stdout"
        }
      ]
    },
    {
      "cell_type": "code",
      "metadata": {
        "id": "eh35QJ9Rv8RV",
        "colab_type": "code",
        "outputId": "69bd0d1f-a4da-496b-aeed-8c7b6b7f97fe",
        "colab": {
          "base_uri": "https://localhost:8080/",
          "height": 54
        }
      },
      "source": [
        "s2 = \"python programming easy to learn\"\n",
        "li = list(s2)\n",
        "print(li)\n"
      ],
      "execution_count": 0,
      "outputs": [
        {
          "output_type": "stream",
          "text": [
            "['p', 'y', 't', 'h', 'o', 'n', ' ', 'p', 'r', 'o', 'g', 'r', 'a', 'm', 'm', 'i', 'n', 'g', ' ', 'e', 'a', 's', 'y', ' ', 't', 'o', ' ', 'l', 'e', 'a', 'r', 'n']\n"
          ],
          "name": "stdout"
        }
      ]
    },
    {
      "cell_type": "code",
      "metadata": {
        "id": "kGrH9nv1wgI1",
        "colab_type": "code",
        "outputId": "f2c5c8cc-ce04-4e8d-9c11-a323c17b0914",
        "colab": {
          "base_uri": "https://localhost:8080/",
          "height": 34
        }
      },
      "source": [
        "s2 = \"python programming easy to learn\"\n",
        "print(s2.replace(\"gra\",\"application\"))"
      ],
      "execution_count": 0,
      "outputs": [
        {
          "output_type": "stream",
          "text": [
            "python proapplicationmming easy to learn\n"
          ],
          "name": "stdout"
        }
      ]
    }
  ]
}